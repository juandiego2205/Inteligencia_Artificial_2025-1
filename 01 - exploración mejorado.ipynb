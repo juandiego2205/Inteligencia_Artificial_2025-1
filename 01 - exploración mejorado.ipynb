{
 "cells": [
  {
   "cell_type": "markdown",
   "id": "3724355a",
   "metadata": {},
   "source": [
    "# 📊 Exploración Inicial del Dataset de la Competencia"
   ]
  },
  {
   "cell_type": "code",
   "execution_count": null,
   "id": "c4053234",
   "metadata": {},
   "outputs": [],
   "source": [
    "# 📦 Importación de librerías necesarias\n",
    "import numpy as np\n",
    "import pandas as pd\n",
    "import matplotlib.pyplot as plt\n",
    "import seaborn as sns\n",
    "\n",
    "# Configuración estética de gráficos\n",
    "sns.set(style=\"whitegrid\")\n",
    "plt.rcParams[\"figure.figsize\"] = (10, 6)\n"
   ]
  },
  {
   "cell_type": "code",
   "execution_count": null,
   "id": "405359d2",
   "metadata": {},
   "outputs": [],
   "source": [
    "# 📁 Carga del archivo CSV\n",
    "file_path = \"/content/train.csv\"  # Asegúrate de que este archivo exista en la ruta especificada\n",
    "data_train = pd.read_csv(file_path, index_col=\"ID\")\n",
    "print(\"✅ Datos cargados correctamente\")\n",
    "data_train.head()\n"
   ]
  },
  {
   "cell_type": "code",
   "execution_count": null,
   "id": "bb8c0028",
   "metadata": {},
   "outputs": [],
   "source": [
    "# 🔍 Información general del dataset\n",
    "data_train.info()\n"
   ]
  },
  {
   "cell_type": "code",
   "execution_count": null,
   "id": "45dd304d",
   "metadata": {},
   "outputs": [],
   "source": [
    "# 🔎 Revisión de valores nulos\n",
    "data_train.isnull().sum().sort_values(ascending=False).head(20)\n"
   ]
  },
  {
   "cell_type": "code",
   "execution_count": null,
   "id": "6d4c108c",
   "metadata": {},
   "outputs": [],
   "source": [
    "# 🎯 Distribución de Clases (Variable Objetivo)\n",
    "sns.countplot(data=data_train, x='CLASE', palette=\"Set1\")\n",
    "plt.title(\"Distribución de Clases\")\n",
    "plt.xlabel(\"Clase\")\n",
    "plt.ylabel(\"Cantidad\")\n",
    "plt.show()\n"
   ]
  },
  {
   "cell_type": "code",
   "execution_count": null,
   "id": "4e77febe",
   "metadata": {},
   "outputs": [],
   "source": [
    "# 🏙️ Top 10 Departamentos con más Estudiantes\n",
    "top_deptos = data_train['ESTU_PRGM_DEPARTAMENTO'].value_counts().nlargest(10)\n",
    "sns.barplot(x=top_deptos.values, y=top_deptos.index, palette=\"viridis\")\n",
    "plt.title(\"Top 10 Departamentos por Número de Estudiantes\")\n",
    "plt.xlabel(\"Cantidad\")\n",
    "plt.ylabel(\"Departamento\")\n",
    "plt.show()\n"
   ]
  },
  {
   "cell_type": "code",
   "execution_count": null,
   "id": "7e922f6f",
   "metadata": {},
   "outputs": [],
   "source": [
    "# 🚻 Distribución por Género\n",
    "sns.countplot(data=data_train, x='ESTU_GENERO', palette=\"Set2\")\n",
    "plt.title(\"Distribución por Género\")\n",
    "plt.xlabel(\"Género\")\n",
    "plt.ylabel(\"Cantidad\")\n",
    "plt.show()\n"
   ]
  },
  {
   "cell_type": "code",
   "execution_count": null,
   "id": "3c8bee89",
   "metadata": {},
   "outputs": [],
   "source": [
    "# 🕒 Distribución de Horas Semanales de Trabajo\n",
    "sns.histplot(data_train['ESTU_HORASSEMANATRABAJA'].dropna(), bins=30, kde=True)\n",
    "plt.title(\"Horas de Trabajo Semanales\")\n",
    "plt.xlabel(\"Horas\")\n",
    "plt.ylabel(\"Frecuencia\")\n",
    "plt.show()\n"
   ]
  },
  {
   "cell_type": "code",
   "execution_count": null,
   "id": "a905f856",
   "metadata": {},
   "outputs": [],
   "source": [
    "# 🔗 Correlación entre Coeficientes\n",
    "coef_cols = ['coef_1', 'coef_2', 'coef_3', 'coef_4']\n",
    "sns.heatmap(data_train[coef_cols].corr(), annot=True, cmap=\"coolwarm\", fmt=\".2f\")\n",
    "plt.title(\"Matriz de Correlación entre Coeficientes\")\n",
    "plt.show()\n"
   ]
  },
  {
   "cell_type": "code",
   "execution_count": null,
   "id": "2a6de94b",
   "metadata": {},
   "outputs": [],
   "source": [
    "# 📦 Distribución de coef_1 según la clase\n",
    "sns.boxplot(data=data_train, x='CLASE', y='coef_1', palette=\"Pastel1\")\n",
    "plt.title(\"Distribución de coef_1 por Clase\")\n",
    "plt.show()\n"
   ]
  },
  {
   "cell_type": "code",
   "execution_count": null,
   "id": "5ba9201a",
   "metadata": {},
   "outputs": [],
   "source": [
    "# 📦 Distribución de coef_2 según la clase\n",
    "sns.boxplot(data=data_train, x='CLASE', y='coef_2', palette=\"Pastel1\")\n",
    "plt.title(\"Distribución de coef_2 por Clase\")\n",
    "plt.show()\n"
   ]
  },
  {
   "cell_type": "code",
   "execution_count": null,
   "id": "3b8409e7",
   "metadata": {},
   "outputs": [],
   "source": [
    "# 📦 Distribución de coef_3 según la clase\n",
    "sns.boxplot(data=data_train, x='CLASE', y='coef_3', palette=\"Pastel1\")\n",
    "plt.title(\"Distribución de coef_3 por Clase\")\n",
    "plt.show()\n"
   ]
  },
  {
   "cell_type": "code",
   "execution_count": null,
   "id": "f2ac616e",
   "metadata": {},
   "outputs": [],
   "source": [
    "# 📦 Distribución de coef_4 según la clase\n",
    "sns.boxplot(data=data_train, x='CLASE', y='coef_4', palette=\"Pastel1\")\n",
    "plt.title(\"Distribución de coef_4 por Clase\")\n",
    "plt.show()\n"
   ]
  }
 ],
 "metadata": {},
 "nbformat": 4,
 "nbformat_minor": 5
}
